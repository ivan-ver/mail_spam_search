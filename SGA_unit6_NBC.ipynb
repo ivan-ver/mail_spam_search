{
 "cells": [
  {
   "cell_type": "markdown",
   "id": "00009cca",
   "metadata": {
    "id": "00009cca"
   },
   "source": [
    "# Классификация текстов с использованием Наивного Байесовского Классификатора"
   ]
  },
  {
   "cell_type": "markdown",
   "id": "a52414b8",
   "metadata": {
    "id": "a52414b8"
   },
   "source": [
    "## Задание 1 (1 балл)"
   ]
  },
  {
   "cell_type": "markdown",
   "id": "f5f27b43",
   "metadata": {
    "id": "f5f27b43"
   },
   "source": [
    "Откройте данные. Узнайте, сколько в них спам- и не спам-писем. Визуализируйте полученные соотношение подходящим образом."
   ]
  },
  {
   "cell_type": "code",
   "execution_count": 227,
   "id": "ac369274",
   "metadata": {
    "id": "ac369274"
   },
   "outputs": [
    {
     "data": {
      "text/plain": "                                                  email  label\n0      date wed NUMBER aug NUMBER NUMBER NUMBER NUMB...      0\n1     martin a posted tassos papadopoulos the greek ...      0\n2     man threatens explosion in moscow thursday aug...      0\n3     klez the virus that won t die already the most...      0\n4      in adding cream to spaghetti carbonara which ...      0\n...                                                 ...    ...\n2995   abc s good morning america ranks it the NUMBE...      1\n2996   hyperlink hyperlink hyperlink let mortgage le...      1\n2997   thank you for shopping with us gifts for all ...      1\n2998   the famous ebay marketing e course learn to s...      1\n2999   hello this is chinese traditional 子 件 NUMBER世...      1\n\n[3000 rows x 2 columns]",
      "text/html": "<div>\n<style scoped>\n    .dataframe tbody tr th:only-of-type {\n        vertical-align: middle;\n    }\n\n    .dataframe tbody tr th {\n        vertical-align: top;\n    }\n\n    .dataframe thead th {\n        text-align: right;\n    }\n</style>\n<table border=\"1\" class=\"dataframe\">\n  <thead>\n    <tr style=\"text-align: right;\">\n      <th></th>\n      <th>email</th>\n      <th>label</th>\n    </tr>\n  </thead>\n  <tbody>\n    <tr>\n      <th>0</th>\n      <td>date wed NUMBER aug NUMBER NUMBER NUMBER NUMB...</td>\n      <td>0</td>\n    </tr>\n    <tr>\n      <th>1</th>\n      <td>martin a posted tassos papadopoulos the greek ...</td>\n      <td>0</td>\n    </tr>\n    <tr>\n      <th>2</th>\n      <td>man threatens explosion in moscow thursday aug...</td>\n      <td>0</td>\n    </tr>\n    <tr>\n      <th>3</th>\n      <td>klez the virus that won t die already the most...</td>\n      <td>0</td>\n    </tr>\n    <tr>\n      <th>4</th>\n      <td>in adding cream to spaghetti carbonara which ...</td>\n      <td>0</td>\n    </tr>\n    <tr>\n      <th>...</th>\n      <td>...</td>\n      <td>...</td>\n    </tr>\n    <tr>\n      <th>2995</th>\n      <td>abc s good morning america ranks it the NUMBE...</td>\n      <td>1</td>\n    </tr>\n    <tr>\n      <th>2996</th>\n      <td>hyperlink hyperlink hyperlink let mortgage le...</td>\n      <td>1</td>\n    </tr>\n    <tr>\n      <th>2997</th>\n      <td>thank you for shopping with us gifts for all ...</td>\n      <td>1</td>\n    </tr>\n    <tr>\n      <th>2998</th>\n      <td>the famous ebay marketing e course learn to s...</td>\n      <td>1</td>\n    </tr>\n    <tr>\n      <th>2999</th>\n      <td>hello this is chinese traditional 子 件 NUMBER世...</td>\n      <td>1</td>\n    </tr>\n  </tbody>\n</table>\n<p>3000 rows × 2 columns</p>\n</div>"
     },
     "execution_count": 227,
     "metadata": {},
     "output_type": "execute_result"
    }
   ],
   "source": [
    "import numpy as np\n",
    "import pandas as pd\n",
    "\n",
    "data = pd.read_csv('spam_or_not_spam.csv')\n",
    "data"
   ]
  },
  {
   "cell_type": "code",
   "execution_count": 228,
   "id": "f4231781",
   "metadata": {
    "id": "f4231781"
   },
   "outputs": [
    {
     "data": {
      "text/plain": "0    2500\n1     500\nName: label, dtype: int64"
     },
     "execution_count": 228,
     "metadata": {},
     "output_type": "execute_result"
    }
   ],
   "source": [
    "data['label'].value_counts()"
   ]
  },
  {
   "cell_type": "code",
   "execution_count": 229,
   "id": "9b871636",
   "metadata": {
    "id": "9b871636"
   },
   "outputs": [
    {
     "data": {
      "text/plain": "Text(0.5, 1.0, 'Рис. 1 - Колличество писем в каждой из групп')"
     },
     "execution_count": 229,
     "metadata": {},
     "output_type": "execute_result"
    },
    {
     "data": {
      "text/plain": "<Figure size 640x480 with 1 Axes>",
      "image/png": "[encoded data removed]"
     },
     "metadata": {},
     "output_type": "display_data"
    }
   ],
   "source": [
    "from matplotlib import pyplot as plt\n",
    "\n",
    "plt.bar([\"нет спама\", \"спам\"], data['label'].value_counts(), width=0.5)\n",
    "plt.grid()\n",
    "plt.xlabel(\"Целевое заначение\")\n",
    "plt.ylabel(\"Колличество писем\")\n",
    "plt.title(\"Рис. 1 - Колличество писем в каждой из групп\")"
   ]
  },
  {
   "cell_type": "markdown",
   "id": "b161614b",
   "metadata": {
    "id": "b161614b"
   },
   "source": [
    "## Задание 2 (2 балла)"
   ]
  },
  {
   "cell_type": "markdown",
   "id": "dd29763b",
   "metadata": {
    "id": "dd29763b"
   },
   "source": [
    "Вам необходимо предобработать ваши данные и перевести их в векторный вид. Подгрузим необходимый модуль:"
   ]
  },
  {
   "cell_type": "code",
   "execution_count": 230,
   "id": "382eac9c",
   "metadata": {
    "id": "382eac9c"
   },
   "outputs": [],
   "source": [
    "from sklearn.feature_extraction.text import CountVectorizer"
   ]
  },
  {
   "cell_type": "markdown",
   "id": "89546b95",
   "metadata": {
    "id": "89546b95"
   },
   "source": [
    "Замените в данных все пустые строки и строки, состоящие из пробелов, на пропуски (NaN). После этого удалите из данных все строки, в которых наблюдаются пропущенные значения."
   ]
  },
  {
   "cell_type": "code",
   "execution_count": 231,
   "id": "45180f82",
   "metadata": {
    "id": "45180f82"
   },
   "outputs": [],
   "source": [
    "data['email'] = data['email'].replace(r'^\\s*$', np.NaN, regex=True)\n",
    "data.dropna(inplace=True)"
   ]
  },
  {
   "cell_type": "markdown",
   "id": "2ca2fe88",
   "metadata": {
    "id": "2ca2fe88"
   },
   "source": [
    "Переводим данные в векторный вид:"
   ]
  },
  {
   "cell_type": "code",
   "execution_count": 232,
   "id": "29e9a37b",
   "metadata": {
    "id": "29e9a37b"
   },
   "outputs": [],
   "source": [
    "vectorizer = CountVectorizer()\n",
    "X = vectorizer.fit_transform(data[\"email\"])"
   ]
  },
  {
   "cell_type": "markdown",
   "id": "88c8b726",
   "metadata": {
    "id": "88c8b726"
   },
   "source": [
    "Определите, сколько теперь признаков в нашем наборе данных:"
   ]
  },
  {
   "cell_type": "code",
   "execution_count": 233,
   "id": "f19c2a02",
   "metadata": {
    "id": "f19c2a02"
   },
   "outputs": [
    {
     "name": "stdout",
     "output_type": "stream",
     "text": [
      "Количество признаков - 34116\n"
     ]
    }
   ],
   "source": [
    "print(f'Количество признаков - {X.shape[1]}')"
   ]
  },
  {
   "cell_type": "markdown",
   "id": "1803f282",
   "metadata": {
    "id": "1803f282"
   },
   "source": [
    "## Задание 3 (2 балла)"
   ]
  },
  {
   "cell_type": "markdown",
   "id": "39f400b7",
   "metadata": {
    "id": "39f400b7"
   },
   "source": [
    "Определите целевую переменную и признаки:"
   ]
  },
  {
   "cell_type": "code",
   "execution_count": 234,
   "id": "31f1acb6",
   "metadata": {
    "id": "31f1acb6"
   },
   "outputs": [],
   "source": [
    "y = data['label']\n",
    "X = X.toarray()"
   ]
  },
  {
   "cell_type": "markdown",
   "id": "b20f273e",
   "metadata": {
    "id": "b20f273e"
   },
   "source": [
    "Разделите выборку на обучающую и тестовую, размер тестовой выборки возьмите как 0.25, параметр random_state определите со значением 42:"
   ]
  },
  {
   "cell_type": "code",
   "execution_count": 235,
   "id": "96538fb6",
   "metadata": {
    "id": "96538fb6"
   },
   "outputs": [],
   "source": [
    "from sklearn.model_selection import train_test_split\n",
    "\n",
    "X_train, X_test, y_train, y_test = train_test_split(X, y, train_size=0.75, test_size=0.25, random_state=42)"
   ]
  },
  {
   "cell_type": "markdown",
   "id": "139dac3d",
   "metadata": {
    "id": "139dac3d"
   },
   "source": [
    "Рассчитайте среднее значение целевой переменной по тестовой выборке:"
   ]
  },
  {
   "cell_type": "code",
   "execution_count": 236,
   "id": "e9baf72d",
   "metadata": {
    "id": "e9baf72d"
   },
   "outputs": [
    {
     "name": "stdout",
     "output_type": "stream",
     "text": [
      "0.177\n"
     ]
    }
   ],
   "source": [
    "print(f'{y_test.mean():.3f}')"
   ]
  },
  {
   "cell_type": "markdown",
   "id": "710e0e94",
   "metadata": {
    "id": "710e0e94"
   },
   "source": [
    "## Задание 4 (3 балла)"
   ]
  },
  {
   "cell_type": "markdown",
   "id": "26cf6885",
   "metadata": {
    "id": "26cf6885"
   },
   "source": [
    "Определите и обучите подходящий алгоритм с параметром alpha = 0.01"
   ]
  },
  {
   "cell_type": "code",
   "execution_count": 237,
   "id": "4865dd78",
   "metadata": {
    "id": "4865dd78"
   },
   "outputs": [],
   "source": [
    "from sklearn.naive_bayes import MultinomialNB, ComplementNB\n",
    "\n",
    "\n",
    "mnb_model = MultinomialNB(alpha=0.01)\n",
    "cnb_model = ComplementNB(alpha=0.01)\n",
    "\n",
    "mnb_model.fit(X_train, y_train)\n",
    "cnb_model.fit(X_train, y_train)\n",
    "\n",
    "mnb_model_predicted = mnb_model.predict(X_test)\n",
    "cnb_model_predicted = cnb_model.predict(X_test)"
   ]
  },
  {
   "cell_type": "markdown",
   "id": "d803fbe3",
   "metadata": {
    "id": "d803fbe3"
   },
   "source": [
    "Оцените результат с точки зрения всех известных вам метрик (не менее трёх):"
   ]
  },
  {
   "cell_type": "code",
   "execution_count": 238,
   "id": "b0bbc4d2",
   "metadata": {
    "id": "b0bbc4d2"
   },
   "outputs": [
    {
     "name": "stdout",
     "output_type": "stream",
     "text": [
      "accuracy score of MultinomialNB-model 0.991\n",
      "precision score of MultinomialNB-model 0.977\n",
      "recall score of MultinomialNB-model 0.970\n",
      "--------------------------------------------------\n",
      "accuracy score of ComplementNB-model 0.991\n",
      "precision score of ComplementNB-model 0.977\n",
      "recall score of ComplementNB-model 0.970\n"
     ]
    }
   ],
   "source": [
    "from sklearn.metrics import accuracy_score, precision_score, recall_score\n",
    "\n",
    "\n",
    "nmb_accuracy = accuracy_score(y_test, mnb_model_predicted)\n",
    "print(f\"accuracy score of MultinomialNB-model {nmb_accuracy:.3f}\")\n",
    "\n",
    "nmb_precision = precision_score(y_test, mnb_model_predicted)\n",
    "print(f\"precision score of MultinomialNB-model {nmb_precision:.3f}\")\n",
    "\n",
    "nmb_recall = recall_score(y_test, mnb_model_predicted)\n",
    "print(f\"recall score of MultinomialNB-model {nmb_recall:.3f}\")\n",
    "print(\"-\"*50)\n",
    "cnb_accuracy = accuracy_score(y_test, cnb_model_predicted)\n",
    "print(f\"accuracy score of ComplementNB-model {cnb_accuracy:.3f}\")\n",
    "\n",
    "cnb_precision = precision_score(y_test, cnb_model_predicted)\n",
    "print(f\"precision score of ComplementNB-model {cnb_precision:.3f}\")\n",
    "\n",
    "cnb_recall = recall_score(y_test ,cnb_model_predicted)\n",
    "print(f\"recall score of ComplementNB-model {cnb_recall:.3f}\")"
   ]
  },
  {
   "cell_type": "markdown",
   "id": "c85976d1",
   "metadata": {
    "id": "c85976d1"
   },
   "source": [
    "Нарисуйте ROC-кривую:"
   ]
  },
  {
   "cell_type": "code",
   "execution_count": 239,
   "id": "b4195126",
   "metadata": {
    "id": "b4195126"
   },
   "outputs": [
    {
     "data": {
      "text/plain": "<matplotlib.legend.Legend at 0x7fab40ae5ba0>"
     },
     "execution_count": 239,
     "metadata": {},
     "output_type": "execute_result"
    },
    {
     "data": {
      "text/plain": "<Figure size 640x480 with 1 Axes>",
      "image/png": "[encoded data removed]"
     },
     "metadata": {},
     "output_type": "display_data"
    }
   ],
   "source": [
    "from sklearn.metrics import roc_curve\n",
    "\n",
    "mnb_model_predicted_proba = mnb_model.predict_proba(X_test)\n",
    "cnb_model_predicted_proba = cnb_model.predict_proba(X_test)\n",
    "\n",
    "fpr_nmb, tpr_nmb, thresholds_nmb = roc_curve(y_test, mnb_model_predicted_proba[:, 1])\n",
    "fpr_cnb, tpr_cnb, thresholds_cnb = roc_curve(y_test, cnb_model_predicted_proba[:, 1])\n",
    "\n",
    "plt.plot(fpr_nmb, tpr_nmb, label='MultinomialNB-model')\n",
    "plt.plot(fpr_cnb, tpr_cnb, label='ComplementNB-model')\n",
    "plt.plot([0, 1], [0, 1], 'k--', label='AUC = 0.5')\n",
    "plt.grid()\n",
    "plt.xlabel('False positive rate')\n",
    "plt.ylabel('True positive rate')\n",
    "plt.title(\"Рис.2 - ROC-кривая\")\n",
    "plt.legend()"
   ]
  },
  {
   "cell_type": "markdown",
   "id": "cf0bb49b",
   "metadata": {
    "id": "cf0bb49b"
   },
   "source": [
    "## Задание 5 (3 балла)"
   ]
  },
  {
   "cell_type": "markdown",
   "id": "30b7a0ae",
   "metadata": {
    "id": "30b7a0ae"
   },
   "source": [
    "Переберите несколько значений alpha с помощью кросс-валидации. Оцените, зависит ли от этого параметра качество классификации."
   ]
  },
  {
   "cell_type": "code",
   "execution_count": 240,
   "id": "3513d907",
   "metadata": {
    "id": "3513d907"
   },
   "outputs": [
    {
     "name": "stdout",
     "output_type": "stream",
     "text": [
      "Лучшее значение метрики \"accuracy\" 0.9920\n"
     ]
    }
   ],
   "source": [
    "from sklearn.model_selection import GridSearchCV\n",
    "\n",
    "params = {\"alpha\": np.linspace(0.01, 1)}\n",
    "grid_search = GridSearchCV(mnb_model, params, cv=5, scoring='accuracy', return_train_score=True)\n",
    "grid_search.fit(X_train, y_train)\n",
    "\n",
    "print(f'Лучшее значение метрики \"accuracy\" {grid_search.best_score_:.4f}')"
   ]
  },
  {
   "cell_type": "markdown",
   "source": [
    "Параметр alpha не влияет на качество модели"
   ],
   "metadata": {
    "collapsed": false
   }
  }
 ],
 "metadata": {
  "kernelspec": {
   "display_name": "Python 3 (ipykernel)",
   "language": "python",
   "name": "python3"
  },
  "language_info": {
   "codemirror_mode": {
    "name": "ipython",
    "version": 3
   },
   "file_extension": ".py",
   "mimetype": "text/x-python",
   "name": "python",
   "nbconvert_exporter": "python",
   "pygments_lexer": "ipython3",
   "version": "3.9.7"
  },
  "colab": {
   "name": "SGA_unit6_NBC.ipynb",
   "provenance": []
  }
 },
 "nbformat": 4,
 "nbformat_minor": 5
}
